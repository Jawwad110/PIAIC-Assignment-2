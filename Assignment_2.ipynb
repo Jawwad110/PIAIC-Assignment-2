{
  "nbformat": 4,
  "nbformat_minor": 0,
  "metadata": {
    "colab": {
      "name": "Assignment 2.ipynb",
      "provenance": [],
      "collapsed_sections": []
    },
    "kernelspec": {
      "name": "python3",
      "display_name": "Python 3"
    }
  },
  "cells": [
    {
      "cell_type": "markdown",
      "metadata": {
        "id": "baAYMbiTQTtO"
      },
      "source": [
        "##Numpy Assignment 2"
      ]
    },
    {
      "cell_type": "code",
      "metadata": {
        "id": "DWau2npHRRFX"
      },
      "source": [
        "import numpy as np"
      ],
      "execution_count": 2,
      "outputs": []
    },
    {
      "cell_type": "code",
      "metadata": {
        "id": "fFi4tIKKRXiP"
      },
      "source": [
        "# Task no 1\r\n",
        "def function1():\r\n",
        "    # create 2d array from 1,12 range \r\n",
        "    # dimension should be 6row 2 columns  \r\n",
        "    # and assign this array values in x values in x variable\r\n",
        "    # Hint: you can use arange and reshape numpy methods  \r\n",
        "    x =  np.arange(1,13).reshape((6,2)) \r\n",
        "    return x   "
      ],
      "execution_count": 8,
      "outputs": []
    },
    {
      "cell_type": "code",
      "metadata": {
        "id": "-I0WxEf0SAbR"
      },
      "source": [
        "# Task2\r\n",
        "def function2():\r\n",
        "    #create 3D array (3,3,3)\r\n",
        "    #must data type should have float64\r\n",
        "    #array value should be satart from 10 and end with 36 (both included)\r\n",
        "    # Hint: dtype, reshape \r\n",
        "    y=np.arange(10,37,dtype=float).reshape(3,3,3)\r\n",
        "    return y"
      ],
      "execution_count": 9,
      "outputs": []
    },
    {
      "cell_type": "code",
      "metadata": {
        "id": "j_HT-Noz142S"
      },
      "source": [
        "def function3():\r\n",
        "    #extract those numbers from given array. those are must exist in 5,7 Table\r\n",
        "    #example [35,70,105,..]\r\n",
        "    a = np.arange(1, 100*10+1).reshape((100, 10))\r\n",
        "    x = a[(a % 35 == 0)]\r\n",
        "    return x\r\n",
        "    "
      ],
      "execution_count": 10,
      "outputs": []
    },
    {
      "cell_type": "code",
      "metadata": {
        "id": "U2mw-Cpo7sPI"
      },
      "source": [
        "#task4\r\n",
        "def function4():\r\n",
        "    #Swap columns 1 and 2 in the array arr.\r\n",
        "    print(\"before\")\r\n",
        "    arr = np.arange(9).reshape(3,3)\r\n",
        "    print(arr)\r\n",
        "    print(\"after\")\r\n",
        "    arr[:,[0,1]]=arr[:,[1,0]]\r\n",
        "    return arr"
      ],
      "execution_count": 11,
      "outputs": []
    },
    {
      "cell_type": "code",
      "metadata": {
        "id": "hakJFX8dFaFl"
      },
      "source": [
        "#task5\r\n",
        "def function5():\r\n",
        "    #Create a null vector of size 20 with 4 rows and 5 columns with numpy function\r\n",
        "    x=np.zeros((4,5))\r\n",
        "    return x    "
      ],
      "execution_count": 12,
      "outputs": []
    },
    {
      "cell_type": "code",
      "metadata": {
        "id": "bMpp25YpvIOC"
      },
      "source": [
        "# task6\r\n",
        "\r\n",
        "\r\n",
        "def function6():\r\n",
        "    # Create a null vector of size 10 but the fifth and eighth value which is 10,20 respectively\r\n",
        "\r\n",
        "    arr = np.zeros(10, dtype=\"int64\")\r\n",
        "    arr[4], arr[7] = 10, 20\r\n",
        "    return arr"
      ],
      "execution_count": null,
      "outputs": []
    },
    {
      "cell_type": "code",
      "metadata": {
        "id": "3wa_4b6WvSqu"
      },
      "source": [
        "# task7\r\n",
        "def function7():\r\n",
        "    #  Create an array of zeros with the same shape and type as X. Dont use reshape method\r\n",
        "    x = np.arange(4, dtype=np.int64)\r\n",
        "    arr = np.zeros_like(x)\r\n",
        "    return arr\r\n",
        "\r\n",
        "    \"\"\"\r\n",
        "        Expected Output:\r\n",
        "              array([0, 0, 0, 0], dtype=int64)\r\n",
        "        \"\"\"\r\n"
      ],
      "execution_count": null,
      "outputs": []
    },
    {
      "cell_type": "code",
      "metadata": {
        "id": "_cHHxlbmyK4q"
      },
      "source": [
        "# task8\r\n",
        "\r\n",
        "\r\n",
        "def function8():\r\n",
        "    # Create a new array of 2x5 uints, filled with 6.\r\n",
        "\r\n",
        "    x = np.full((2, 5), 6, dtype=\"uint32\")\r\n",
        "\r\n",
        "    return x\r\n",
        "\r\n",
        "    \"\"\"\r\n",
        "     Expected Output:\r\n",
        "              array([[6, 6, 6, 6, 6],\r\n",
        "                     [6, 6, 6, 6, 6]], dtype=uint32)\r\n",
        "    \"\"\"\r\n",
        "                     "
      ],
      "execution_count": null,
      "outputs": []
    },
    {
      "cell_type": "code",
      "metadata": {
        "id": "69wBKwAtyWuA"
      },
      "source": [
        "# task9\r\n",
        "\r\n",
        "\r\n",
        "def function9():\r\n",
        "    # Create an array of 2, 4, 6, 8, ..., 100.\r\n",
        "\r\n",
        "    a = np.arange(2, 102, 2)\r\n",
        "\r\n",
        "    return a\r\n",
        "\r\n",
        "    \"\"\"\r\n",
        "     Expected Output:\r\n",
        "              array([  2,   4,   6,   8,  10,  12,  14,  16,  18,  20,  22,  24,  26,\r\n",
        "                    28,  30,  32,  34,  36,  38,  40,  42,  44,  46,  48,  50,  52,\r\n",
        "                    54,  56,  58,  60,  62,  64,  66,  68,  70,  72,  74,  76,  78,\r\n",
        "                    80,  82,  84,  86,  88,  90,  92,  94,  96,  98, 100])\r\n",
        "     \"\"\"\r\n"
      ],
      "execution_count": null,
      "outputs": []
    },
    {
      "cell_type": "code",
      "metadata": {
        "id": "SRMHJhQJygws"
      },
      "source": [
        "# task10\r\n",
        "\r\n",
        "\r\n",
        "def function10():\r\n",
        "    # Subtract the 1d array brr from the 2d array arr, such that each item of brr subtracts from respective row of arr.\r\n",
        "\r\n",
        "    arr = np.array([[3, 3, 3], [4, 4, 4], [5, 5, 5]])\r\n",
        "    brr = np.array([1, 2, 3])\r\n",
        "    subt = arr - brr[:, None]\r\n",
        "\r\n",
        "    return subt\r\n",
        "\r\n",
        "    \"\"\"\r\n",
        "     Expected Output:\r\n",
        "               array([[2 2 2]\r\n",
        "                      [2 2 2]\r\n",
        "                      [2 2 2]])\r\n",
        "     \"\"\""
      ],
      "execution_count": null,
      "outputs": []
    },
    {
      "cell_type": "code",
      "metadata": {
        "id": "4_hu6RjSzHZQ"
      },
      "source": [
        "# task11\r\n",
        "def function11():\r\n",
        "    # Replace all odd numbers in arr with -1 without changing arr.\r\n",
        "\r\n",
        "    arr = np.array([0, 1, 2, 3, 4, 5, 6, 7, 8, 9])\r\n",
        "    ans = arr[arr % 2 == 1] = -1\r\n",
        "\r\n",
        "    return ans\r\n",
        "\r\n",
        "    \"\"\"\r\n",
        "     Expected Output:\r\n",
        "              array([ 0, -1,  2, -1,  4, -1,  6, -1,  8, -1])\r\n",
        "     \"\"\""
      ],
      "execution_count": null,
      "outputs": []
    },
    {
      "cell_type": "code",
      "metadata": {
        "id": "bRHt8OFszpls"
      },
      "source": [
        "# task12\r\n",
        "\r\n",
        "\r\n",
        "def function12():\r\n",
        "    # Create the following pattern without hardcoding. Use only numpy functions and the below input array arr.\r\n",
        "    # HINT: use stacking concept\r\n",
        "\r\n",
        "    arr = np.array([1, 2, 3])\r\n",
        "    a = arr.copy()\r\n",
        "    a = np.hstack((arr, arr, arr))\r\n",
        "    ans = np.repeat(arr, 3)\r\n",
        "    ans = np.hstack((ans, a))\r\n",
        "\r\n",
        "    return ans\r\n",
        "\r\n",
        "    \"\"\"\r\n",
        "     Expected Output:\r\n",
        "              array([1, 1, 1, 2, 2, 2, 3, 3, 3, 1, 2, 3, 1, 2, 3, 1, 2, 3])\r\n",
        "     \"\"\""
      ],
      "execution_count": null,
      "outputs": []
    },
    {
      "cell_type": "code",
      "metadata": {
        "id": "Y3GMcG6azyAV"
      },
      "source": [
        "# task13\r\n",
        "\r\n",
        "\r\n",
        "def function13():\r\n",
        "    # Set a condition which gets all items between 5 and 10 from arr.\r\n",
        "\r\n",
        "    arr = np.array([2, 6, 1, 9, 10, 3, 27])\r\n",
        "    ans = arr[(arr > 5) & (arr < 10)]\r\n",
        "\r\n",
        "    return ans\r\n",
        "\r\n",
        "    \"\"\"\r\n",
        "     Expected Output:\r\n",
        "              array([6, 9])\r\n",
        "     \"\"\"\r\n"
      ],
      "execution_count": null,
      "outputs": []
    },
    {
      "cell_type": "code",
      "metadata": {
        "id": "_Kh78VwE0IX1"
      },
      "source": [
        "def function14():\r\n",
        "    # Create an 8X3 integer array from a range between 10 to 34 such that the difference between each element is 1 and then Split the array into four equal-sized sub-arrays.\r\n",
        "    # Hint use split method\r\n",
        "\r\n",
        "    arr = np.arange(10, 34, 1).reshape((8, 3))\r\n",
        "    ans = np.array_split(arr, 4)\r\n",
        "    return ans\r\n",
        "\r\n",
        "    \"\"\"\r\n",
        "     Expected Output:\r\n",
        "       [array([[10, 11, 12],[13, 14, 15]]), \r\n",
        "        array([[16, 17, 18],[19, 20, 21]]), \r\n",
        "        array([[22, 23, 24],[25, 26, 27]]), \r\n",
        "        array([[28, 29, 30],[31, 32, 33]])]\r\n",
        "     \"\"\""
      ],
      "execution_count": null,
      "outputs": []
    },
    {
      "cell_type": "code",
      "metadata": {
        "id": "MYskulxC0Pay"
      },
      "source": [
        "# task15\r\n",
        "\r\n",
        "\r\n",
        "def function15():\r\n",
        "    # Sort following NumPy array by the second column\r\n",
        "\r\n",
        "    arr = np.array([[8,  2, -2], [-4,  1,  7], [6,  3,  9]])\r\n",
        "    ans = arr[arr[:, 1].argsort()]\r\n",
        "\r\n",
        "    return ans\r\n",
        "\r\n",
        "    \"\"\"\r\n",
        "     Expected Output:\r\n",
        "           array([[-4,  1,  7],\r\n",
        "                   [ 8,  2, -2],\r\n",
        "                   [ 6,  3,  9]])\r\n",
        "     \"\"\""
      ],
      "execution_count": null,
      "outputs": []
    },
    {
      "cell_type": "code",
      "metadata": {
        "id": "7syQavfS0akW"
      },
      "source": [
        "# task16\r\n",
        "\r\n",
        "\r\n",
        "def function16():\r\n",
        "    # Write a NumPy program to join a sequence of arrays along depth.\r\n",
        "\r\n",
        "    x = np.array([[1], [2], [3]])\r\n",
        "    y = np.array([[2], [3], [4]])\r\n",
        "    ans = np.stack((x, y), axis=2)\r\n",
        "\r\n",
        "    return ans\r\n",
        "\r\n",
        "    \"\"\"\r\n",
        "     Expected Output:\r\n",
        "                [[[1 2]]\r\n",
        "                 [[2 3]]\r\n",
        "                 [[3 4]]]\r\n",
        "     \"\"\""
      ],
      "execution_count": null,
      "outputs": []
    },
    {
      "cell_type": "code",
      "metadata": {
        "id": "A8HVpcyx0b6N"
      },
      "source": [
        "# Task17\r\n",
        "def function17():\r\n",
        "    # replace numbers with \"YES\" if it divided by 3 and 5\r\n",
        "    # otherwise it will be replaced with \"NO\"\r\n",
        "    # Hint: np.where\r\n",
        "    arr = np.arange(1, 10*10+1).reshape((10, 10))\r\n",
        "    return np.where(arr % 15 == 0, 'YES', 'NO')\r\n",
        "\r\n",
        "    # Excpected Out\r\n",
        "    \"\"\"\r\n",
        "    array([['NO', 'NO', 'NO', 'NO', 'NO', 'NO', 'NO', 'NO', 'NO', 'NO'],\r\n",
        "       ['NO', 'NO', 'NO', 'NO', 'YES', 'NO', 'NO', 'NO', 'NO', 'NO'],\r\n",
        "       ['NO', 'NO', 'NO', 'NO', 'NO', 'NO', 'NO', 'NO', 'NO', 'YES'],\r\n",
        "       ['NO', 'NO', 'NO', 'NO', 'NO', 'NO', 'NO', 'NO', 'NO', 'NO'],\r\n",
        "       ['NO', 'NO', 'NO', 'NO', 'YES', 'NO', 'NO', 'NO', 'NO', 'NO'],\r\n",
        "       ['NO', 'NO', 'NO', 'NO', 'NO', 'NO', 'NO', 'NO', 'NO', 'YES'],\r\n",
        "       ['NO', 'NO', 'NO', 'NO', 'NO', 'NO', 'NO', 'NO', 'NO', 'NO'],\r\n",
        "       ['NO', 'NO', 'NO', 'NO', 'YES', 'NO', 'NO', 'NO', 'NO', 'NO'],\r\n",
        "       ['NO', 'NO', 'NO', 'NO', 'NO', 'NO', 'NO', 'NO', 'NO', 'YES'],\r\n",
        "       ['NO', 'NO', 'NO', 'NO', 'NO', 'NO', 'NO', 'NO', 'NO', 'NO']],\r\n",
        "      dtype='<U3')\r\n",
        "    \"\"\""
      ],
      "execution_count": null,
      "outputs": []
    },
    {
      "cell_type": "code",
      "metadata": {
        "id": "Qxs73b0-0jN7"
      },
      "source": [
        "#Task18\r\n",
        "\r\n",
        "\r\n",
        "def function18():\r\n",
        "    # count values of \"students\" are exist in \"piaic\"\r\n",
        "    piaic = np.arange(100)\r\n",
        "    students = np.array([5, 20, 50, 200, 301, 7001])\r\n",
        "    x = np.intersect1d(piaic, students)\r\n",
        "    x = len(x)\r\n",
        "    return x\r\n",
        "\r\n",
        "    # Expected output: 3"
      ],
      "execution_count": null,
      "outputs": []
    },
    {
      "cell_type": "code",
      "metadata": {
        "id": "ljWzj_VP0zjZ"
      },
      "source": [
        "# Task19\r\n",
        "\r\n",
        "\r\n",
        "def function19():\r\n",
        "    # Create variable \"X\" from 1,25 (both are included) range values\r\n",
        "    # Convert \"X\" variable dimension into 5 rows and 5 columns\r\n",
        "    # Create one more variable \"W\" copy of \"X\"\r\n",
        "    # Swap \"W\" row and column axis (like transpose)\r\n",
        "    # then create variable \"b\" with value equal to 5\r\n",
        "    # Now return output as \"(X*W)+b:\r\n",
        "\r\n",
        "    X = np.arange(1, 26).reshape((5, 5))\r\n",
        "    W = X.copy().transpose()\r\n",
        "    b = 5\r\n",
        "    output = (X * W) + b\r\n",
        "    return output\r\n",
        "\r\n",
        "    # expected output\r\n",
        "    \"\"\"\r\n",
        "    array([[  6,  17,  38,  69, 110],\r\n",
        "       [ 17,  54, 101, 158, 225],\r\n",
        "       [ 38, 101, 174, 257, 350],\r\n",
        "       [ 69, 158, 257, 366, 485],\r\n",
        "       [110, 225, 350, 485, 630]])\r\n",
        "    \"\"\""
      ],
      "execution_count": null,
      "outputs": []
    },
    {
      "cell_type": "code",
      "metadata": {
        "id": "xNLVOBMM1hx4"
      },
      "source": [
        "# Task20\r\n",
        "def fucntion20():\r\n",
        "    # apply fuction \"abc\" on each value of Array \"X\"\r\n",
        "    x = np.arange(1, 11)\r\n",
        "\r\n",
        "    def xyz(x):\r\n",
        "        return x*2+3-2\r\n",
        "\r\n",
        "    return xyz(x)\r\n",
        "    # Expected Output: array([ 3,  5,  7,  9, 11, 13, 15, 17, 19, 21])"
      ],
      "execution_count": null,
      "outputs": []
    }
  ]
}